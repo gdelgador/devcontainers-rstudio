{
 "cells": [
  {
   "cell_type": "markdown",
   "metadata": {},
   "source": [
    "# Actividad 1\n",
    "-----------------------\n",
    "\n",
    "Alumno: Gonzalo Antonio Delgado Rubio\n",
    "Curso: 06MBID_04_B_2024-25_Estadística avanzada\n",
    "\n",
    "Seguro de viaje con el atributo objetivo de: Estado del reclamo (Sí o No)\n",
    "\n",
    "\n",
    "\n",
    "| Atributo Ingles      | Atributo Español       | Significado                                          |\n",
    "|-----------------------------|-----------------------------|------------------------------------------------------------|\n",
    "| Claim                       | Estado del reclamo           | Claim Status                                               |\n",
    "| Agency                      | Nombre de la agencia         | Agency Name                                                |\n",
    "| Agency Type                 | Tipo de agencias de seguros  | Type of Insurance Agency                                   |\n",
    "| Distribution Channel        | Canal de distribución        | Distribution Channel of Insurance Agency                    |\n",
    "| Product Name                | Nombre de los productos      | Name of the Insurance Product                              |\n",
    "| Duration                    | Duración del viaje           | Duration of the Trip                                       |\n",
    "| Destination                 | Destino del viaje            | Destination of the Trip                                    |\n",
    "| Net Sales                   | Monto de ventas              | Net Sales of Insurance Policies                            |\n",
    "| Commision (in value)        | Comisión recibida            | Commission Received by Insurance Agency                     |\n",
    "| Gender                      | Género del asegurado         | Gender of the Insured                                      |\n",
    "| Age                         | Edad del asegurado           | Age of the Insured                                         |\n",
    "\n",
    "\n",
    "URL DataSet:  https://www.kaggle.com/datasets/mhdzahier/travel-insurance/data"
   ]
  },
  {
   "cell_type": "code",
   "execution_count": 61,
   "metadata": {
    "vscode": {
     "languageId": "r"
    }
   },
   "outputs": [
    {
     "name": "stderr",
     "output_type": "stream",
     "text": [
      "Installing package into ‘/usr/local/lib/R/site-library’\n",
      "(as ‘lib’ is unspecified)\n",
      "\n",
      "Installing package into ‘/usr/local/lib/R/site-library’\n",
      "(as ‘lib’ is unspecified)\n",
      "\n",
      "Installing package into ‘/usr/local/lib/R/site-library’\n",
      "(as ‘lib’ is unspecified)\n",
      "\n",
      "Installing package into ‘/usr/local/lib/R/site-library’\n",
      "(as ‘lib’ is unspecified)\n",
      "\n"
     ]
    }
   ],
   "source": [
    "# Instalar y cargar las librerías necesarias\n",
    "install.packages(\"caret\")\n",
    "install.packages(\"dplyr\")\n",
    "install.packages(\"ggplot2\")\n",
    "install.packages(\"psych\")\n",
    "library(psych)\n",
    "library(caret)\n",
    "library(dplyr)\n",
    "library(ggplot2)\n"
   ]
  },
  {
   "cell_type": "code",
   "execution_count": 62,
   "metadata": {
    "vscode": {
     "languageId": "r"
    }
   },
   "outputs": [
    {
     "data": {
      "text/html": [
       "<table class=\"dataframe\">\n",
       "<caption>A data.frame: 1 × 12</caption>\n",
       "<thead>\n",
       "\t<tr><th></th><th scope=col>ID</th><th scope=col>Age</th><th scope=col>Agency</th><th scope=col>Agency.Type</th><th scope=col>Commision..in.value.</th><th scope=col>Destination</th><th scope=col>Distribution.Channel</th><th scope=col>Duration</th><th scope=col>Gender</th><th scope=col>Net.Sales</th><th scope=col>Product.Name</th><th scope=col>Claim</th></tr>\n",
       "\t<tr><th></th><th scope=col>&lt;int&gt;</th><th scope=col>&lt;int&gt;</th><th scope=col>&lt;chr&gt;</th><th scope=col>&lt;chr&gt;</th><th scope=col>&lt;dbl&gt;</th><th scope=col>&lt;chr&gt;</th><th scope=col>&lt;chr&gt;</th><th scope=col>&lt;int&gt;</th><th scope=col>&lt;chr&gt;</th><th scope=col>&lt;dbl&gt;</th><th scope=col>&lt;chr&gt;</th><th scope=col>&lt;int&gt;</th></tr>\n",
       "</thead>\n",
       "<tbody>\n",
       "\t<tr><th scope=row>1</th><td>45341</td><td>28</td><td>C2B</td><td>Airlines</td><td>28.13</td><td>SINGAPORE</td><td>Online</td><td>34</td><td>F</td><td>112.5</td><td>Silver Plan</td><td>1</td></tr>\n",
       "</tbody>\n",
       "</table>\n"
      ],
      "text/latex": [
       "A data.frame: 1 × 12\n",
       "\\begin{tabular}{r|llllllllllll}\n",
       "  & ID & Age & Agency & Agency.Type & Commision..in.value. & Destination & Distribution.Channel & Duration & Gender & Net.Sales & Product.Name & Claim\\\\\n",
       "  & <int> & <int> & <chr> & <chr> & <dbl> & <chr> & <chr> & <int> & <chr> & <dbl> & <chr> & <int>\\\\\n",
       "\\hline\n",
       "\t1 & 45341 & 28 & C2B & Airlines & 28.13 & SINGAPORE & Online & 34 & F & 112.5 & Silver Plan & 1\\\\\n",
       "\\end{tabular}\n"
      ],
      "text/markdown": [
       "\n",
       "A data.frame: 1 × 12\n",
       "\n",
       "| <!--/--> | ID &lt;int&gt; | Age &lt;int&gt; | Agency &lt;chr&gt; | Agency.Type &lt;chr&gt; | Commision..in.value. &lt;dbl&gt; | Destination &lt;chr&gt; | Distribution.Channel &lt;chr&gt; | Duration &lt;int&gt; | Gender &lt;chr&gt; | Net.Sales &lt;dbl&gt; | Product.Name &lt;chr&gt; | Claim &lt;int&gt; |\n",
       "|---|---|---|---|---|---|---|---|---|---|---|---|---|\n",
       "| 1 | 45341 | 28 | C2B | Airlines | 28.13 | SINGAPORE | Online | 34 | F | 112.5 | Silver Plan | 1 |\n",
       "\n"
      ],
      "text/plain": [
       "  ID    Age Agency Agency.Type Commision..in.value. Destination\n",
       "1 45341 28  C2B    Airlines    28.13                SINGAPORE  \n",
       "  Distribution.Channel Duration Gender Net.Sales Product.Name Claim\n",
       "1 Online               34       F      112.5     Silver Plan  1    "
      ]
     },
     "metadata": {},
     "output_type": "display_data"
    }
   ],
   "source": [
    "# carga de dataset\n",
    "df <- read.csv(\"dataset.csv\")\n",
    "head(df,1)"
   ]
  },
  {
   "cell_type": "code",
   "execution_count": 63,
   "metadata": {
    "vscode": {
     "languageId": "r"
    }
   },
   "outputs": [
    {
     "data": {
      "text/html": [
       "<style>\n",
       ".list-inline {list-style: none; margin:0; padding: 0}\n",
       ".list-inline>li {display: inline-block}\n",
       ".list-inline>li:not(:last-child)::after {content: \"\\00b7\"; padding: 0 .5ex}\n",
       "</style>\n",
       "<ol class=list-inline><li>62288</li><li>12</li></ol>\n"
      ],
      "text/latex": [
       "\\begin{enumerate*}\n",
       "\\item 62288\n",
       "\\item 12\n",
       "\\end{enumerate*}\n"
      ],
      "text/markdown": [
       "1. 62288\n",
       "2. 12\n",
       "\n",
       "\n"
      ],
      "text/plain": [
       "[1] 62288    12"
      ]
     },
     "metadata": {},
     "output_type": "display_data"
    }
   ],
   "source": [
    "dim(df)"
   ]
  },
  {
   "cell_type": "markdown",
   "metadata": {},
   "source": [
    "## 1. Exploración de Datos"
   ]
  },
  {
   "cell_type": "code",
   "execution_count": 64,
   "metadata": {
    "vscode": {
     "languageId": "r"
    }
   },
   "outputs": [
    {
     "data": {
      "text/html": [
       "<table class=\"dataframe\">\n",
       "<caption>A data.frame: 2 × 12</caption>\n",
       "<thead>\n",
       "\t<tr><th></th><th scope=col>id</th><th scope=col>age</th><th scope=col>agency</th><th scope=col>agency_type</th><th scope=col>commision</th><th scope=col>destination</th><th scope=col>distribution_channel</th><th scope=col>duration</th><th scope=col>gender</th><th scope=col>net_sales</th><th scope=col>product_name</th><th scope=col>claim</th></tr>\n",
       "\t<tr><th></th><th scope=col>&lt;int&gt;</th><th scope=col>&lt;int&gt;</th><th scope=col>&lt;chr&gt;</th><th scope=col>&lt;chr&gt;</th><th scope=col>&lt;dbl&gt;</th><th scope=col>&lt;chr&gt;</th><th scope=col>&lt;chr&gt;</th><th scope=col>&lt;int&gt;</th><th scope=col>&lt;chr&gt;</th><th scope=col>&lt;dbl&gt;</th><th scope=col>&lt;chr&gt;</th><th scope=col>&lt;int&gt;</th></tr>\n",
       "</thead>\n",
       "<tbody>\n",
       "\t<tr><th scope=row>1</th><td>45341</td><td>28</td><td>C2B</td><td>Airlines</td><td>28.13</td><td>SINGAPORE  </td><td>Online</td><td>34</td><td>F</td><td>112.5</td><td>Silver Plan</td><td>1</td></tr>\n",
       "\t<tr><th scope=row>2</th><td>12958</td><td>37</td><td>JZI</td><td>Airlines</td><td>12.95</td><td>PHILIPPINES</td><td>Online</td><td>53</td><td>F</td><td> 37.0</td><td>Basic Plan </td><td>0</td></tr>\n",
       "</tbody>\n",
       "</table>\n"
      ],
      "text/latex": [
       "A data.frame: 2 × 12\n",
       "\\begin{tabular}{r|llllllllllll}\n",
       "  & id & age & agency & agency\\_type & commision & destination & distribution\\_channel & duration & gender & net\\_sales & product\\_name & claim\\\\\n",
       "  & <int> & <int> & <chr> & <chr> & <dbl> & <chr> & <chr> & <int> & <chr> & <dbl> & <chr> & <int>\\\\\n",
       "\\hline\n",
       "\t1 & 45341 & 28 & C2B & Airlines & 28.13 & SINGAPORE   & Online & 34 & F & 112.5 & Silver Plan & 1\\\\\n",
       "\t2 & 12958 & 37 & JZI & Airlines & 12.95 & PHILIPPINES & Online & 53 & F &  37.0 & Basic Plan  & 0\\\\\n",
       "\\end{tabular}\n"
      ],
      "text/markdown": [
       "\n",
       "A data.frame: 2 × 12\n",
       "\n",
       "| <!--/--> | id &lt;int&gt; | age &lt;int&gt; | agency &lt;chr&gt; | agency_type &lt;chr&gt; | commision &lt;dbl&gt; | destination &lt;chr&gt; | distribution_channel &lt;chr&gt; | duration &lt;int&gt; | gender &lt;chr&gt; | net_sales &lt;dbl&gt; | product_name &lt;chr&gt; | claim &lt;int&gt; |\n",
       "|---|---|---|---|---|---|---|---|---|---|---|---|---|\n",
       "| 1 | 45341 | 28 | C2B | Airlines | 28.13 | SINGAPORE   | Online | 34 | F | 112.5 | Silver Plan | 1 |\n",
       "| 2 | 12958 | 37 | JZI | Airlines | 12.95 | PHILIPPINES | Online | 53 | F |  37.0 | Basic Plan  | 0 |\n",
       "\n"
      ],
      "text/plain": [
       "  id    age agency agency_type commision destination distribution_channel\n",
       "1 45341 28  C2B    Airlines    28.13     SINGAPORE   Online              \n",
       "2 12958 37  JZI    Airlines    12.95     PHILIPPINES Online              \n",
       "  duration gender net_sales product_name claim\n",
       "1 34       F      112.5     Silver Plan  1    \n",
       "2 53       F       37.0     Basic Plan   0    "
      ]
     },
     "metadata": {},
     "output_type": "display_data"
    }
   ],
   "source": [
    "# Renombrar las columnas utilizando la función rename de dplyr\n",
    "\n",
    "df <- df %>% rename(\n",
    "  id = ID,\n",
    "  age = Age,\n",
    "  agency = Agency,\n",
    "  agency_type = `Agency.Type`,\n",
    "  commision = `Commision..in.value.`,\n",
    "  destination = Destination,\n",
    "  distribution_channel = `Distribution.Channel`,\n",
    "  duration = Duration,\n",
    "  gender = Gender,\n",
    "  net_sales = `Net.Sales`,\n",
    "  product_name = `Product.Name`,\n",
    "  claim = Claim\n",
    ")\n",
    "\n",
    "# Mostrar las primeras 2 filas del DataFrame\n",
    "head(df, 2)"
   ]
  },
  {
   "cell_type": "code",
   "execution_count": 65,
   "metadata": {
    "vscode": {
     "languageId": "r"
    }
   },
   "outputs": [
    {
     "data": {
      "text/html": [
       "<table class=\"dataframe\">\n",
       "<caption>A psych: 12 × 13</caption>\n",
       "<thead>\n",
       "\t<tr><th></th><th scope=col>vars</th><th scope=col>n</th><th scope=col>mean</th><th scope=col>sd</th><th scope=col>median</th><th scope=col>trimmed</th><th scope=col>mad</th><th scope=col>min</th><th scope=col>max</th><th scope=col>range</th><th scope=col>skew</th><th scope=col>kurtosis</th><th scope=col>se</th></tr>\n",
       "\t<tr><th></th><th scope=col>&lt;int&gt;</th><th scope=col>&lt;dbl&gt;</th><th scope=col>&lt;dbl&gt;</th><th scope=col>&lt;dbl&gt;</th><th scope=col>&lt;dbl&gt;</th><th scope=col>&lt;dbl&gt;</th><th scope=col>&lt;dbl&gt;</th><th scope=col>&lt;dbl&gt;</th><th scope=col>&lt;dbl&gt;</th><th scope=col>&lt;dbl&gt;</th><th scope=col>&lt;dbl&gt;</th><th scope=col>&lt;dbl&gt;</th><th scope=col>&lt;dbl&gt;</th></tr>\n",
       "</thead>\n",
       "<tbody>\n",
       "\t<tr><th scope=row>id</th><td> 1</td><td>62288</td><td>3.284495e+04</td><td>1.806542e+04</td><td>33446.50</td><td>3.308708e+04</td><td>22892.826600</td><td>   0</td><td>63323.00</td><td>63323.00</td><td>-0.09030053</td><td> -1.1633701</td><td>7.238454e+01</td></tr>\n",
       "\t<tr><th scope=row>age</th><td> 2</td><td>62288</td><td>3.966632e+01</td><td>1.401465e+01</td><td>   36.00</td><td>3.769584e+01</td><td>    7.413000</td><td>   0</td><td>  118.00</td><td>  118.00</td><td> 2.86558337</td><td> 12.4269866</td><td>5.615393e-02</td></tr>\n",
       "\t<tr><th scope=row>agency*</th><td> 3</td><td>62288</td><td>7.200729e+00</td><td>2.674967e+00</td><td>    8.00</td><td>7.164513e+00</td><td>    1.482600</td><td>   1</td><td>   16.00</td><td>   15.00</td><td>-0.07415869</td><td>  0.3235035</td><td>1.071806e-02</td></tr>\n",
       "\t<tr><th scope=row>agency_type*</th><td> 4</td><td>62288</td><td>1.655279e+00</td><td>4.752811e-01</td><td>    2.00</td><td>1.694092e+00</td><td>    0.000000</td><td>   1</td><td>    2.00</td><td>    1.00</td><td>-0.65340786</td><td> -1.5730834</td><td>1.904357e-03</td></tr>\n",
       "\t<tr><th scope=row>commision</th><td> 5</td><td>62288</td><td>1.282970e+01</td><td>2.349874e+01</td><td>    1.88</td><td>7.235987e+00</td><td>    2.787288</td><td>   0</td><td>  262.76</td><td>  262.76</td><td> 3.36748063</td><td> 16.5153677</td><td>9.415480e-02</td></tr>\n",
       "\t<tr><th scope=row>destination*</th><td> 6</td><td>62288</td><td>6.090452e+01</td><td>2.849731e+01</td><td>   73.00</td><td>6.311366e+01</td><td>   23.721600</td><td>   1</td><td>  102.00</td><td>  101.00</td><td>-0.60548286</td><td> -0.8625374</td><td>1.141831e-01</td></tr>\n",
       "\t<tr><th scope=row>distribution_channel*</th><td> 7</td><td>62288</td><td>1.982083e+00</td><td>1.326501e-01</td><td>    2.00</td><td>2.000000e+00</td><td>    0.000000</td><td>   1</td><td>    2.00</td><td>    1.00</td><td>-7.26837803</td><td> 50.8301352</td><td>5.315025e-04</td></tr>\n",
       "\t<tr><th scope=row>duration</th><td> 8</td><td>62288</td><td>6.095880e+01</td><td>1.143253e+02</td><td>   25.00</td><td>3.532459e+01</td><td>   26.686800</td><td>  -2</td><td> 4881.00</td><td> 4883.00</td><td>14.86221447</td><td>555.5211229</td><td>4.580789e-01</td></tr>\n",
       "\t<tr><th scope=row>gender*</th><td> 9</td><td>62288</td><td>1.544920e+00</td><td>7.800916e-01</td><td>    1.00</td><td>1.431169e+00</td><td>    0.000000</td><td>   1</td><td>    3.00</td><td>    2.00</td><td> 0.98997324</td><td> -0.6451385</td><td>3.125672e-03</td></tr>\n",
       "\t<tr><th scope=row>net_sales</th><td>10</td><td>62288</td><td>5.071706e+01</td><td>6.316671e+01</td><td>   29.70</td><td>3.709657e+01</td><td>   21.201180</td><td>-389</td><td>  682.00</td><td> 1071.00</td><td> 2.71121551</td><td>  9.6263399</td><td>2.530965e-01</td></tr>\n",
       "\t<tr><th scope=row>product_name*</th><td>11</td><td>62288</td><td>1.026384e+01</td><td>6.487542e+00</td><td>   11.00</td><td>9.880258e+00</td><td>    8.895600</td><td>   1</td><td>   25.00</td><td>   24.00</td><td> 0.33389501</td><td> -0.5538235</td><td>2.599429e-02</td></tr>\n",
       "\t<tr><th scope=row>claim</th><td>12</td><td>62288</td><td>2.000064e-01</td><td>4.000080e-01</td><td>    0.00</td><td>1.250201e-01</td><td>    0.000000</td><td>   0</td><td>    1.00</td><td>    1.00</td><td> 1.49991371</td><td>  0.2497451</td><td>1.602753e-03</td></tr>\n",
       "</tbody>\n",
       "</table>\n"
      ],
      "text/latex": [
       "A psych: 12 × 13\n",
       "\\begin{tabular}{r|lllllllllllll}\n",
       "  & vars & n & mean & sd & median & trimmed & mad & min & max & range & skew & kurtosis & se\\\\\n",
       "  & <int> & <dbl> & <dbl> & <dbl> & <dbl> & <dbl> & <dbl> & <dbl> & <dbl> & <dbl> & <dbl> & <dbl> & <dbl>\\\\\n",
       "\\hline\n",
       "\tid &  1 & 62288 & 3.284495e+04 & 1.806542e+04 & 33446.50 & 3.308708e+04 & 22892.826600 &    0 & 63323.00 & 63323.00 & -0.09030053 &  -1.1633701 & 7.238454e+01\\\\\n",
       "\tage &  2 & 62288 & 3.966632e+01 & 1.401465e+01 &    36.00 & 3.769584e+01 &     7.413000 &    0 &   118.00 &   118.00 &  2.86558337 &  12.4269866 & 5.615393e-02\\\\\n",
       "\tagency* &  3 & 62288 & 7.200729e+00 & 2.674967e+00 &     8.00 & 7.164513e+00 &     1.482600 &    1 &    16.00 &    15.00 & -0.07415869 &   0.3235035 & 1.071806e-02\\\\\n",
       "\tagency\\_type* &  4 & 62288 & 1.655279e+00 & 4.752811e-01 &     2.00 & 1.694092e+00 &     0.000000 &    1 &     2.00 &     1.00 & -0.65340786 &  -1.5730834 & 1.904357e-03\\\\\n",
       "\tcommision &  5 & 62288 & 1.282970e+01 & 2.349874e+01 &     1.88 & 7.235987e+00 &     2.787288 &    0 &   262.76 &   262.76 &  3.36748063 &  16.5153677 & 9.415480e-02\\\\\n",
       "\tdestination* &  6 & 62288 & 6.090452e+01 & 2.849731e+01 &    73.00 & 6.311366e+01 &    23.721600 &    1 &   102.00 &   101.00 & -0.60548286 &  -0.8625374 & 1.141831e-01\\\\\n",
       "\tdistribution\\_channel* &  7 & 62288 & 1.982083e+00 & 1.326501e-01 &     2.00 & 2.000000e+00 &     0.000000 &    1 &     2.00 &     1.00 & -7.26837803 &  50.8301352 & 5.315025e-04\\\\\n",
       "\tduration &  8 & 62288 & 6.095880e+01 & 1.143253e+02 &    25.00 & 3.532459e+01 &    26.686800 &   -2 &  4881.00 &  4883.00 & 14.86221447 & 555.5211229 & 4.580789e-01\\\\\n",
       "\tgender* &  9 & 62288 & 1.544920e+00 & 7.800916e-01 &     1.00 & 1.431169e+00 &     0.000000 &    1 &     3.00 &     2.00 &  0.98997324 &  -0.6451385 & 3.125672e-03\\\\\n",
       "\tnet\\_sales & 10 & 62288 & 5.071706e+01 & 6.316671e+01 &    29.70 & 3.709657e+01 &    21.201180 & -389 &   682.00 &  1071.00 &  2.71121551 &   9.6263399 & 2.530965e-01\\\\\n",
       "\tproduct\\_name* & 11 & 62288 & 1.026384e+01 & 6.487542e+00 &    11.00 & 9.880258e+00 &     8.895600 &    1 &    25.00 &    24.00 &  0.33389501 &  -0.5538235 & 2.599429e-02\\\\\n",
       "\tclaim & 12 & 62288 & 2.000064e-01 & 4.000080e-01 &     0.00 & 1.250201e-01 &     0.000000 &    0 &     1.00 &     1.00 &  1.49991371 &   0.2497451 & 1.602753e-03\\\\\n",
       "\\end{tabular}\n"
      ],
      "text/markdown": [
       "\n",
       "A psych: 12 × 13\n",
       "\n",
       "| <!--/--> | vars &lt;int&gt; | n &lt;dbl&gt; | mean &lt;dbl&gt; | sd &lt;dbl&gt; | median &lt;dbl&gt; | trimmed &lt;dbl&gt; | mad &lt;dbl&gt; | min &lt;dbl&gt; | max &lt;dbl&gt; | range &lt;dbl&gt; | skew &lt;dbl&gt; | kurtosis &lt;dbl&gt; | se &lt;dbl&gt; |\n",
       "|---|---|---|---|---|---|---|---|---|---|---|---|---|---|\n",
       "| id |  1 | 62288 | 3.284495e+04 | 1.806542e+04 | 33446.50 | 3.308708e+04 | 22892.826600 |    0 | 63323.00 | 63323.00 | -0.09030053 |  -1.1633701 | 7.238454e+01 |\n",
       "| age |  2 | 62288 | 3.966632e+01 | 1.401465e+01 |    36.00 | 3.769584e+01 |     7.413000 |    0 |   118.00 |   118.00 |  2.86558337 |  12.4269866 | 5.615393e-02 |\n",
       "| agency* |  3 | 62288 | 7.200729e+00 | 2.674967e+00 |     8.00 | 7.164513e+00 |     1.482600 |    1 |    16.00 |    15.00 | -0.07415869 |   0.3235035 | 1.071806e-02 |\n",
       "| agency_type* |  4 | 62288 | 1.655279e+00 | 4.752811e-01 |     2.00 | 1.694092e+00 |     0.000000 |    1 |     2.00 |     1.00 | -0.65340786 |  -1.5730834 | 1.904357e-03 |\n",
       "| commision |  5 | 62288 | 1.282970e+01 | 2.349874e+01 |     1.88 | 7.235987e+00 |     2.787288 |    0 |   262.76 |   262.76 |  3.36748063 |  16.5153677 | 9.415480e-02 |\n",
       "| destination* |  6 | 62288 | 6.090452e+01 | 2.849731e+01 |    73.00 | 6.311366e+01 |    23.721600 |    1 |   102.00 |   101.00 | -0.60548286 |  -0.8625374 | 1.141831e-01 |\n",
       "| distribution_channel* |  7 | 62288 | 1.982083e+00 | 1.326501e-01 |     2.00 | 2.000000e+00 |     0.000000 |    1 |     2.00 |     1.00 | -7.26837803 |  50.8301352 | 5.315025e-04 |\n",
       "| duration |  8 | 62288 | 6.095880e+01 | 1.143253e+02 |    25.00 | 3.532459e+01 |    26.686800 |   -2 |  4881.00 |  4883.00 | 14.86221447 | 555.5211229 | 4.580789e-01 |\n",
       "| gender* |  9 | 62288 | 1.544920e+00 | 7.800916e-01 |     1.00 | 1.431169e+00 |     0.000000 |    1 |     3.00 |     2.00 |  0.98997324 |  -0.6451385 | 3.125672e-03 |\n",
       "| net_sales | 10 | 62288 | 5.071706e+01 | 6.316671e+01 |    29.70 | 3.709657e+01 |    21.201180 | -389 |   682.00 |  1071.00 |  2.71121551 |   9.6263399 | 2.530965e-01 |\n",
       "| product_name* | 11 | 62288 | 1.026384e+01 | 6.487542e+00 |    11.00 | 9.880258e+00 |     8.895600 |    1 |    25.00 |    24.00 |  0.33389501 |  -0.5538235 | 2.599429e-02 |\n",
       "| claim | 12 | 62288 | 2.000064e-01 | 4.000080e-01 |     0.00 | 1.250201e-01 |     0.000000 |    0 |     1.00 |     1.00 |  1.49991371 |   0.2497451 | 1.602753e-03 |\n",
       "\n"
      ],
      "text/plain": [
       "                      vars n     mean         sd           median  \n",
       "id                     1   62288 3.284495e+04 1.806542e+04 33446.50\n",
       "age                    2   62288 3.966632e+01 1.401465e+01    36.00\n",
       "agency*                3   62288 7.200729e+00 2.674967e+00     8.00\n",
       "agency_type*           4   62288 1.655279e+00 4.752811e-01     2.00\n",
       "commision              5   62288 1.282970e+01 2.349874e+01     1.88\n",
       "destination*           6   62288 6.090452e+01 2.849731e+01    73.00\n",
       "distribution_channel*  7   62288 1.982083e+00 1.326501e-01     2.00\n",
       "duration               8   62288 6.095880e+01 1.143253e+02    25.00\n",
       "gender*                9   62288 1.544920e+00 7.800916e-01     1.00\n",
       "net_sales             10   62288 5.071706e+01 6.316671e+01    29.70\n",
       "product_name*         11   62288 1.026384e+01 6.487542e+00    11.00\n",
       "claim                 12   62288 2.000064e-01 4.000080e-01     0.00\n",
       "                      trimmed      mad          min  max      range   \n",
       "id                    3.308708e+04 22892.826600    0 63323.00 63323.00\n",
       "age                   3.769584e+01     7.413000    0   118.00   118.00\n",
       "agency*               7.164513e+00     1.482600    1    16.00    15.00\n",
       "agency_type*          1.694092e+00     0.000000    1     2.00     1.00\n",
       "commision             7.235987e+00     2.787288    0   262.76   262.76\n",
       "destination*          6.311366e+01    23.721600    1   102.00   101.00\n",
       "distribution_channel* 2.000000e+00     0.000000    1     2.00     1.00\n",
       "duration              3.532459e+01    26.686800   -2  4881.00  4883.00\n",
       "gender*               1.431169e+00     0.000000    1     3.00     2.00\n",
       "net_sales             3.709657e+01    21.201180 -389   682.00  1071.00\n",
       "product_name*         9.880258e+00     8.895600    1    25.00    24.00\n",
       "claim                 1.250201e-01     0.000000    0     1.00     1.00\n",
       "                      skew        kurtosis    se          \n",
       "id                    -0.09030053  -1.1633701 7.238454e+01\n",
       "age                    2.86558337  12.4269866 5.615393e-02\n",
       "agency*               -0.07415869   0.3235035 1.071806e-02\n",
       "agency_type*          -0.65340786  -1.5730834 1.904357e-03\n",
       "commision              3.36748063  16.5153677 9.415480e-02\n",
       "destination*          -0.60548286  -0.8625374 1.141831e-01\n",
       "distribution_channel* -7.26837803  50.8301352 5.315025e-04\n",
       "duration              14.86221447 555.5211229 4.580789e-01\n",
       "gender*                0.98997324  -0.6451385 3.125672e-03\n",
       "net_sales              2.71121551   9.6263399 2.530965e-01\n",
       "product_name*          0.33389501  -0.5538235 2.599429e-02\n",
       "claim                  1.49991371   0.2497451 1.602753e-03"
      ]
     },
     "metadata": {},
     "output_type": "display_data"
    }
   ],
   "source": [
    "\n",
    "# Obtener estadísticas descriptivas de todas las columnas\n",
    "describe(df)"
   ]
  },
  {
   "cell_type": "markdown",
   "metadata": {},
   "source": [
    "observamos valores negativos para duration y net_sales, de la misma forma age tiene un valor maximo de 118 que podría resultar atipico\n",
    "\n",
    "Aqui tambien se aprecia que habría una gran cantidad de valores nulos para gender"
   ]
  },
  {
   "cell_type": "markdown",
   "metadata": {},
   "source": [
    "### 2.1 Nulidad de Datos"
   ]
  },
  {
   "cell_type": "code",
   "execution_count": 66,
   "metadata": {
    "vscode": {
     "languageId": "r"
    }
   },
   "outputs": [
    {
     "data": {
      "text/html": [
       "<style>\n",
       ".dl-inline {width: auto; margin:0; padding: 0}\n",
       ".dl-inline>dt, .dl-inline>dd {float: none; width: auto; display: inline-block}\n",
       ".dl-inline>dt::after {content: \":\\0020\"; padding-right: .5ex}\n",
       ".dl-inline>dt:not(:first-of-type) {padding-left: .5ex}\n",
       "</style><dl class=dl-inline><dt>id</dt><dd>0</dd><dt>age</dt><dd>0</dd><dt>agency</dt><dd>0</dd><dt>agency_type</dt><dd>0</dd><dt>commision</dt><dd>0</dd><dt>destination</dt><dd>0</dd><dt>distribution_channel</dt><dd>0</dd><dt>duration</dt><dd>0</dd><dt>gender</dt><dd>63.5355124582584</dd><dt>net_sales</dt><dd>0</dd><dt>product_name</dt><dd>0</dd><dt>claim</dt><dd>0</dd></dl>\n"
      ],
      "text/latex": [
       "\\begin{description*}\n",
       "\\item[id] 0\n",
       "\\item[age] 0\n",
       "\\item[agency] 0\n",
       "\\item[agency\\textbackslash{}\\_type] 0\n",
       "\\item[commision] 0\n",
       "\\item[destination] 0\n",
       "\\item[distribution\\textbackslash{}\\_channel] 0\n",
       "\\item[duration] 0\n",
       "\\item[gender] 63.5355124582584\n",
       "\\item[net\\textbackslash{}\\_sales] 0\n",
       "\\item[product\\textbackslash{}\\_name] 0\n",
       "\\item[claim] 0\n",
       "\\end{description*}\n"
      ],
      "text/markdown": [
       "id\n",
       ":   0age\n",
       ":   0agency\n",
       ":   0agency_type\n",
       ":   0commision\n",
       ":   0destination\n",
       ":   0distribution_channel\n",
       ":   0duration\n",
       ":   0gender\n",
       ":   63.5355124582584net_sales\n",
       ":   0product_name\n",
       ":   0claim\n",
       ":   0\n",
       "\n"
      ],
      "text/plain": [
       "                  id                  age               agency \n",
       "             0.00000              0.00000              0.00000 \n",
       "         agency_type            commision          destination \n",
       "             0.00000              0.00000              0.00000 \n",
       "distribution_channel             duration               gender \n",
       "             0.00000              0.00000             63.53551 \n",
       "           net_sales         product_name                claim \n",
       "             0.00000              0.00000              0.00000 "
      ]
     },
     "metadata": {},
     "output_type": "display_data"
    }
   ],
   "source": [
    "# Calculate the count of null or empty values per field\n",
    "porcentaje_nulos <- colSums(is.na(df) | df == \"\") / nrow(df) * 100\n",
    "porcentaje_nulos"
   ]
  },
  {
   "cell_type": "markdown",
   "metadata": {},
   "source": [
    "observamos que variable gender tiene un 63.5% de valores nulos o vacio, se deberá evaluar si esta variable es relevante para los análisis futuros. A primera impresión podria parecer factible eliminarla"
   ]
  },
  {
   "cell_type": "code",
   "execution_count": 67,
   "metadata": {
    "vscode": {
     "languageId": "r"
    }
   },
   "outputs": [
    {
     "data": {
      "text/html": [
       "<table class=\"dataframe\">\n",
       "<caption>A data.frame: 2 × 12</caption>\n",
       "<thead>\n",
       "\t<tr><th></th><th scope=col>id</th><th scope=col>age</th><th scope=col>agency</th><th scope=col>agency_type</th><th scope=col>commision</th><th scope=col>destination</th><th scope=col>distribution_channel</th><th scope=col>duration</th><th scope=col>gender</th><th scope=col>net_sales</th><th scope=col>product_name</th><th scope=col>claim</th></tr>\n",
       "\t<tr><th></th><th scope=col>&lt;int&gt;</th><th scope=col>&lt;int&gt;</th><th scope=col>&lt;chr&gt;</th><th scope=col>&lt;chr&gt;</th><th scope=col>&lt;dbl&gt;</th><th scope=col>&lt;chr&gt;</th><th scope=col>&lt;chr&gt;</th><th scope=col>&lt;int&gt;</th><th scope=col>&lt;chr&gt;</th><th scope=col>&lt;dbl&gt;</th><th scope=col>&lt;chr&gt;</th><th scope=col>&lt;int&gt;</th></tr>\n",
       "</thead>\n",
       "<tbody>\n",
       "\t<tr><th scope=row>1</th><td>45341</td><td>28</td><td>C2B</td><td>Airlines</td><td>28.13</td><td>SINGAPORE  </td><td>Online</td><td>34</td><td>F</td><td>112.5</td><td>Silver Plan</td><td>1</td></tr>\n",
       "\t<tr><th scope=row>2</th><td>12958</td><td>37</td><td>JZI</td><td>Airlines</td><td>12.95</td><td>PHILIPPINES</td><td>Online</td><td>53</td><td>F</td><td> 37.0</td><td>Basic Plan </td><td>0</td></tr>\n",
       "</tbody>\n",
       "</table>\n"
      ],
      "text/latex": [
       "A data.frame: 2 × 12\n",
       "\\begin{tabular}{r|llllllllllll}\n",
       "  & id & age & agency & agency\\_type & commision & destination & distribution\\_channel & duration & gender & net\\_sales & product\\_name & claim\\\\\n",
       "  & <int> & <int> & <chr> & <chr> & <dbl> & <chr> & <chr> & <int> & <chr> & <dbl> & <chr> & <int>\\\\\n",
       "\\hline\n",
       "\t1 & 45341 & 28 & C2B & Airlines & 28.13 & SINGAPORE   & Online & 34 & F & 112.5 & Silver Plan & 1\\\\\n",
       "\t2 & 12958 & 37 & JZI & Airlines & 12.95 & PHILIPPINES & Online & 53 & F &  37.0 & Basic Plan  & 0\\\\\n",
       "\\end{tabular}\n"
      ],
      "text/markdown": [
       "\n",
       "A data.frame: 2 × 12\n",
       "\n",
       "| <!--/--> | id &lt;int&gt; | age &lt;int&gt; | agency &lt;chr&gt; | agency_type &lt;chr&gt; | commision &lt;dbl&gt; | destination &lt;chr&gt; | distribution_channel &lt;chr&gt; | duration &lt;int&gt; | gender &lt;chr&gt; | net_sales &lt;dbl&gt; | product_name &lt;chr&gt; | claim &lt;int&gt; |\n",
       "|---|---|---|---|---|---|---|---|---|---|---|---|---|\n",
       "| 1 | 45341 | 28 | C2B | Airlines | 28.13 | SINGAPORE   | Online | 34 | F | 112.5 | Silver Plan | 1 |\n",
       "| 2 | 12958 | 37 | JZI | Airlines | 12.95 | PHILIPPINES | Online | 53 | F |  37.0 | Basic Plan  | 0 |\n",
       "\n"
      ],
      "text/plain": [
       "  id    age agency agency_type commision destination distribution_channel\n",
       "1 45341 28  C2B    Airlines    28.13     SINGAPORE   Online              \n",
       "2 12958 37  JZI    Airlines    12.95     PHILIPPINES Online              \n",
       "  duration gender net_sales product_name claim\n",
       "1 34       F      112.5     Silver Plan  1    \n",
       "2 53       F       37.0     Basic Plan   0    "
      ]
     },
     "metadata": {},
     "output_type": "display_data"
    }
   ],
   "source": [
    "# Reemplazo string vacios por NA\n",
    "df <- df %>%\n",
    "  mutate(gender = ifelse(gender == \"\", NA, gender))\n",
    "\n",
    "head(df,2)\n"
   ]
  },
  {
   "cell_type": "markdown",
   "metadata": {},
   "source": [
    "#### 2.3 Quitar Datos Considerados Errores"
   ]
  },
  {
   "cell_type": "code",
   "execution_count": 69,
   "metadata": {
    "vscode": {
     "languageId": "r"
    }
   },
   "outputs": [
    {
     "name": "stdout",
     "output_type": "stream",
     "text": [
      "Cantidad de datos negativos para net_sales: 584 \n",
      "Cantidad de datos negativos para duration: 4 \n"
     ]
    }
   ],
   "source": [
    "# Cantidad de datos con valores negativos\n",
    "cat(\"Cantidad de datos negativos para net_sales:\", sum(df$net_sales < 0), \"\\n\")\n",
    "cat(\"Cantidad de datos negativos para duration:\", sum(df$duration < 0), \"\\n\")"
   ]
  },
  {
   "cell_type": "code",
   "execution_count": 70,
   "metadata": {
    "vscode": {
     "languageId": "r"
    }
   },
   "outputs": [
    {
     "data": {
      "text/html": [
       "<table class=\"dataframe\">\n",
       "<caption>A data.frame: 6 × 12</caption>\n",
       "<thead>\n",
       "\t<tr><th></th><th scope=col>id</th><th scope=col>age</th><th scope=col>agency</th><th scope=col>agency_type</th><th scope=col>commision</th><th scope=col>destination</th><th scope=col>distribution_channel</th><th scope=col>duration</th><th scope=col>gender</th><th scope=col>net_sales</th><th scope=col>product_name</th><th scope=col>claim</th></tr>\n",
       "\t<tr><th></th><th scope=col>&lt;int&gt;</th><th scope=col>&lt;int&gt;</th><th scope=col>&lt;chr&gt;</th><th scope=col>&lt;chr&gt;</th><th scope=col>&lt;dbl&gt;</th><th scope=col>&lt;chr&gt;</th><th scope=col>&lt;chr&gt;</th><th scope=col>&lt;int&gt;</th><th scope=col>&lt;chr&gt;</th><th scope=col>&lt;dbl&gt;</th><th scope=col>&lt;chr&gt;</th><th scope=col>&lt;int&gt;</th></tr>\n",
       "</thead>\n",
       "<tbody>\n",
       "\t<tr><th scope=row>1</th><td>45341</td><td>28</td><td>C2B</td><td>Airlines     </td><td>28.13</td><td>SINGAPORE    </td><td>Online</td><td>34</td><td>F </td><td>112.5</td><td>Silver Plan                    </td><td>1</td></tr>\n",
       "\t<tr><th scope=row>2</th><td>12958</td><td>37</td><td>JZI</td><td>Airlines     </td><td>12.95</td><td>PHILIPPINES  </td><td>Online</td><td>53</td><td>F </td><td> 37.0</td><td>Basic Plan                     </td><td>0</td></tr>\n",
       "\t<tr><th scope=row>3</th><td>18233</td><td>27</td><td>EPX</td><td>Travel Agency</td><td> 0.00</td><td>UNITED STATES</td><td>Online</td><td>28</td><td>NA</td><td> 13.0</td><td>Cancellation Plan              </td><td>0</td></tr>\n",
       "\t<tr><th scope=row>4</th><td>31742</td><td>36</td><td>EPX</td><td>Travel Agency</td><td> 0.00</td><td>SAUDI ARABIA </td><td>Online</td><td> 1</td><td>NA</td><td> 34.0</td><td>Cancellation Plan              </td><td>0</td></tr>\n",
       "\t<tr><th scope=row>5</th><td>14381</td><td>26</td><td>CWT</td><td>Travel Agency</td><td>23.76</td><td>THAILAND     </td><td>Online</td><td>33</td><td>NA</td><td> 39.6</td><td>Rental Vehicle Excess Insurance</td><td>0</td></tr>\n",
       "\t<tr><th scope=row>6</th><td> 9279</td><td>39</td><td>CWT</td><td>Travel Agency</td><td>59.40</td><td>AUSTRALIA    </td><td>Online</td><td>78</td><td>NA</td><td> 99.0</td><td>Rental Vehicle Excess Insurance</td><td>0</td></tr>\n",
       "</tbody>\n",
       "</table>\n"
      ],
      "text/latex": [
       "A data.frame: 6 × 12\n",
       "\\begin{tabular}{r|llllllllllll}\n",
       "  & id & age & agency & agency\\_type & commision & destination & distribution\\_channel & duration & gender & net\\_sales & product\\_name & claim\\\\\n",
       "  & <int> & <int> & <chr> & <chr> & <dbl> & <chr> & <chr> & <int> & <chr> & <dbl> & <chr> & <int>\\\\\n",
       "\\hline\n",
       "\t1 & 45341 & 28 & C2B & Airlines      & 28.13 & SINGAPORE     & Online & 34 & F  & 112.5 & Silver Plan                     & 1\\\\\n",
       "\t2 & 12958 & 37 & JZI & Airlines      & 12.95 & PHILIPPINES   & Online & 53 & F  &  37.0 & Basic Plan                      & 0\\\\\n",
       "\t3 & 18233 & 27 & EPX & Travel Agency &  0.00 & UNITED STATES & Online & 28 & NA &  13.0 & Cancellation Plan               & 0\\\\\n",
       "\t4 & 31742 & 36 & EPX & Travel Agency &  0.00 & SAUDI ARABIA  & Online &  1 & NA &  34.0 & Cancellation Plan               & 0\\\\\n",
       "\t5 & 14381 & 26 & CWT & Travel Agency & 23.76 & THAILAND      & Online & 33 & NA &  39.6 & Rental Vehicle Excess Insurance & 0\\\\\n",
       "\t6 &  9279 & 39 & CWT & Travel Agency & 59.40 & AUSTRALIA     & Online & 78 & NA &  99.0 & Rental Vehicle Excess Insurance & 0\\\\\n",
       "\\end{tabular}\n"
      ],
      "text/markdown": [
       "\n",
       "A data.frame: 6 × 12\n",
       "\n",
       "| <!--/--> | id &lt;int&gt; | age &lt;int&gt; | agency &lt;chr&gt; | agency_type &lt;chr&gt; | commision &lt;dbl&gt; | destination &lt;chr&gt; | distribution_channel &lt;chr&gt; | duration &lt;int&gt; | gender &lt;chr&gt; | net_sales &lt;dbl&gt; | product_name &lt;chr&gt; | claim &lt;int&gt; |\n",
       "|---|---|---|---|---|---|---|---|---|---|---|---|---|\n",
       "| 1 | 45341 | 28 | C2B | Airlines      | 28.13 | SINGAPORE     | Online | 34 | F  | 112.5 | Silver Plan                     | 1 |\n",
       "| 2 | 12958 | 37 | JZI | Airlines      | 12.95 | PHILIPPINES   | Online | 53 | F  |  37.0 | Basic Plan                      | 0 |\n",
       "| 3 | 18233 | 27 | EPX | Travel Agency |  0.00 | UNITED STATES | Online | 28 | NA |  13.0 | Cancellation Plan               | 0 |\n",
       "| 4 | 31742 | 36 | EPX | Travel Agency |  0.00 | SAUDI ARABIA  | Online |  1 | NA |  34.0 | Cancellation Plan               | 0 |\n",
       "| 5 | 14381 | 26 | CWT | Travel Agency | 23.76 | THAILAND      | Online | 33 | NA |  39.6 | Rental Vehicle Excess Insurance | 0 |\n",
       "| 6 |  9279 | 39 | CWT | Travel Agency | 59.40 | AUSTRALIA     | Online | 78 | NA |  99.0 | Rental Vehicle Excess Insurance | 0 |\n",
       "\n"
      ],
      "text/plain": [
       "  id    age agency agency_type   commision destination   distribution_channel\n",
       "1 45341 28  C2B    Airlines      28.13     SINGAPORE     Online              \n",
       "2 12958 37  JZI    Airlines      12.95     PHILIPPINES   Online              \n",
       "3 18233 27  EPX    Travel Agency  0.00     UNITED STATES Online              \n",
       "4 31742 36  EPX    Travel Agency  0.00     SAUDI ARABIA  Online              \n",
       "5 14381 26  CWT    Travel Agency 23.76     THAILAND      Online              \n",
       "6  9279 39  CWT    Travel Agency 59.40     AUSTRALIA     Online              \n",
       "  duration gender net_sales product_name                    claim\n",
       "1 34       F      112.5     Silver Plan                     1    \n",
       "2 53       F       37.0     Basic Plan                      0    \n",
       "3 28       NA      13.0     Cancellation Plan               0    \n",
       "4  1       NA      34.0     Cancellation Plan               0    \n",
       "5 33       NA      39.6     Rental Vehicle Excess Insurance 0    \n",
       "6 78       NA      99.0     Rental Vehicle Excess Insurance 0    "
      ]
     },
     "metadata": {},
     "output_type": "display_data"
    }
   ],
   "source": [
    "# Los datos se duración y net_sales con valores negativos deberian ser eliminados de nuestro dataset al considerarse como datos erroneos\n",
    "df <- df[df$net_sales >= 0 & df$duration >= 0, ]\n",
    "head(df)\n"
   ]
  },
  {
   "cell_type": "markdown",
   "metadata": {},
   "source": [
    "#### 2.2 Verificar la existencia de duplicados"
   ]
  },
  {
   "cell_type": "code",
   "execution_count": 71,
   "metadata": {
    "vscode": {
     "languageId": "r"
    }
   },
   "outputs": [
    {
     "data": {
      "text/html": [
       "39095"
      ],
      "text/latex": [
       "39095"
      ],
      "text/markdown": [
       "39095"
      ],
      "text/plain": [
       "[1] 39095"
      ]
     },
     "metadata": {},
     "output_type": "display_data"
    }
   ],
   "source": [
    "# cantidad nulos\n",
    "sum(is.na(df))"
   ]
  },
  {
   "cell_type": "code",
   "execution_count": 72,
   "metadata": {
    "vscode": {
     "languageId": "r"
    }
   },
   "outputs": [
    {
     "data": {
      "text/html": [
       "<table class=\"dataframe\">\n",
       "<caption>A data.frame: 5 × 12</caption>\n",
       "<thead>\n",
       "\t<tr><th></th><th scope=col>age</th><th scope=col>agency</th><th scope=col>agency_type</th><th scope=col>claim</th><th scope=col>commision</th><th scope=col>destination</th><th scope=col>distribution_channel</th><th scope=col>duration</th><th scope=col>gender</th><th scope=col>id</th><th scope=col>net_sales</th><th scope=col>product_name</th></tr>\n",
       "\t<tr><th></th><th scope=col>&lt;int&gt;</th><th scope=col>&lt;chr&gt;</th><th scope=col>&lt;chr&gt;</th><th scope=col>&lt;int&gt;</th><th scope=col>&lt;dbl&gt;</th><th scope=col>&lt;chr&gt;</th><th scope=col>&lt;chr&gt;</th><th scope=col>&lt;int&gt;</th><th scope=col>&lt;chr&gt;</th><th scope=col>&lt;int&gt;</th><th scope=col>&lt;dbl&gt;</th><th scope=col>&lt;chr&gt;</th></tr>\n",
       "</thead>\n",
       "<tbody>\n",
       "\t<tr><th scope=row>291</th><td>44</td><td>LWC</td><td>Travel Agency</td><td>1</td><td> 49.73</td><td>FRANCE   </td><td>Online</td><td> 31</td><td>M </td><td>56061</td><td> 76.5</td><td>Single Trip Travel Protect Gold</td></tr>\n",
       "\t<tr><th scope=row>386</th><td>36</td><td>EPX</td><td>Travel Agency</td><td>1</td><td>  0.00</td><td>VIET NAM </td><td>Online</td><td> 19</td><td>NA</td><td>36469</td><td> 25.0</td><td>2 way Comprehensive Plan       </td></tr>\n",
       "\t<tr><th scope=row>553</th><td>25</td><td>C2B</td><td>Airlines     </td><td>1</td><td> 64.80</td><td>SINGAPORE</td><td>Online</td><td>366</td><td>F </td><td>44757</td><td>259.2</td><td>Annual Silver Plan             </td></tr>\n",
       "\t<tr><th scope=row>608</th><td>24</td><td>C2B</td><td>Airlines     </td><td>1</td><td>103.00</td><td>SINGAPORE</td><td>Online</td><td>166</td><td>M </td><td>60771</td><td>412.0</td><td>Silver Plan                    </td></tr>\n",
       "\t<tr><th scope=row>640</th><td>26</td><td>C2B</td><td>Airlines     </td><td>1</td><td> 64.80</td><td>SINGAPORE</td><td>Online</td><td>365</td><td>F </td><td>48460</td><td>259.2</td><td>Annual Silver Plan             </td></tr>\n",
       "</tbody>\n",
       "</table>\n"
      ],
      "text/latex": [
       "A data.frame: 5 × 12\n",
       "\\begin{tabular}{r|llllllllllll}\n",
       "  & age & agency & agency\\_type & claim & commision & destination & distribution\\_channel & duration & gender & id & net\\_sales & product\\_name\\\\\n",
       "  & <int> & <chr> & <chr> & <int> & <dbl> & <chr> & <chr> & <int> & <chr> & <int> & <dbl> & <chr>\\\\\n",
       "\\hline\n",
       "\t291 & 44 & LWC & Travel Agency & 1 &  49.73 & FRANCE    & Online &  31 & M  & 56061 &  76.5 & Single Trip Travel Protect Gold\\\\\n",
       "\t386 & 36 & EPX & Travel Agency & 1 &   0.00 & VIET NAM  & Online &  19 & NA & 36469 &  25.0 & 2 way Comprehensive Plan       \\\\\n",
       "\t553 & 25 & C2B & Airlines      & 1 &  64.80 & SINGAPORE & Online & 366 & F  & 44757 & 259.2 & Annual Silver Plan             \\\\\n",
       "\t608 & 24 & C2B & Airlines      & 1 & 103.00 & SINGAPORE & Online & 166 & M  & 60771 & 412.0 & Silver Plan                    \\\\\n",
       "\t640 & 26 & C2B & Airlines      & 1 &  64.80 & SINGAPORE & Online & 365 & F  & 48460 & 259.2 & Annual Silver Plan             \\\\\n",
       "\\end{tabular}\n"
      ],
      "text/markdown": [
       "\n",
       "A data.frame: 5 × 12\n",
       "\n",
       "| <!--/--> | age &lt;int&gt; | agency &lt;chr&gt; | agency_type &lt;chr&gt; | claim &lt;int&gt; | commision &lt;dbl&gt; | destination &lt;chr&gt; | distribution_channel &lt;chr&gt; | duration &lt;int&gt; | gender &lt;chr&gt; | id &lt;int&gt; | net_sales &lt;dbl&gt; | product_name &lt;chr&gt; |\n",
       "|---|---|---|---|---|---|---|---|---|---|---|---|---|\n",
       "| 291 | 44 | LWC | Travel Agency | 1 |  49.73 | FRANCE    | Online |  31 | M  | 56061 |  76.5 | Single Trip Travel Protect Gold |\n",
       "| 386 | 36 | EPX | Travel Agency | 1 |   0.00 | VIET NAM  | Online |  19 | NA | 36469 |  25.0 | 2 way Comprehensive Plan        |\n",
       "| 553 | 25 | C2B | Airlines      | 1 |  64.80 | SINGAPORE | Online | 366 | F  | 44757 | 259.2 | Annual Silver Plan              |\n",
       "| 608 | 24 | C2B | Airlines      | 1 | 103.00 | SINGAPORE | Online | 166 | M  | 60771 | 412.0 | Silver Plan                     |\n",
       "| 640 | 26 | C2B | Airlines      | 1 |  64.80 | SINGAPORE | Online | 365 | F  | 48460 | 259.2 | Annual Silver Plan              |\n",
       "\n"
      ],
      "text/plain": [
       "    age agency agency_type   claim commision destination distribution_channel\n",
       "291 44  LWC    Travel Agency 1      49.73    FRANCE      Online              \n",
       "386 36  EPX    Travel Agency 1       0.00    VIET NAM    Online              \n",
       "553 25  C2B    Airlines      1      64.80    SINGAPORE   Online              \n",
       "608 24  C2B    Airlines      1     103.00    SINGAPORE   Online              \n",
       "640 26  C2B    Airlines      1      64.80    SINGAPORE   Online              \n",
       "    duration gender id    net_sales product_name                   \n",
       "291  31      M      56061  76.5     Single Trip Travel Protect Gold\n",
       "386  19      NA     36469  25.0     2 way Comprehensive Plan       \n",
       "553 366      F      44757 259.2     Annual Silver Plan             \n",
       "608 166      M      60771 412.0     Silver Plan                    \n",
       "640 365      F      48460 259.2     Annual Silver Plan             "
      ]
     },
     "metadata": {},
     "output_type": "display_data"
    }
   ],
   "source": [
    "# identificando duplicados\n",
    "duplicate_columns <- df[duplicated(df), ]\n",
    "duplicate_columns <- duplicate_columns[order(names(duplicate_columns))]\n",
    "head(duplicate_columns, 5)"
   ]
  },
  {
   "cell_type": "code",
   "execution_count": 73,
   "metadata": {
    "vscode": {
     "languageId": "r"
    }
   },
   "outputs": [
    {
     "data": {
      "text/html": [
       "<style>\n",
       ".list-inline {list-style: none; margin:0; padding: 0}\n",
       ".list-inline>li {display: inline-block}\n",
       ".list-inline>li:not(:last-child)::after {content: \"\\00b7\"; padding: 0 .5ex}\n",
       "</style>\n",
       "<ol class=list-inline><li>50207</li><li>12</li></ol>\n"
      ],
      "text/latex": [
       "\\begin{enumerate*}\n",
       "\\item 50207\n",
       "\\item 12\n",
       "\\end{enumerate*}\n"
      ],
      "text/markdown": [
       "1. 50207\n",
       "2. 12\n",
       "\n",
       "\n"
      ],
      "text/plain": [
       "[1] 50207    12"
      ]
     },
     "metadata": {},
     "output_type": "display_data"
    }
   ],
   "source": [
    "# data sin duplicados\n",
    "df_clean <- unique(df)\n",
    "dim(df_clean)"
   ]
  },
  {
   "cell_type": "markdown",
   "metadata": {},
   "source": [
    "## 3. Analisis Exploratorio De los Datos\n",
    "\n",
    "En este apartado nos encargaremos de realizar el análisis a las variables categoricas y numericas asi como a nuestro target para visualizar temas de balance"
   ]
  },
  {
   "cell_type": "markdown",
   "metadata": {},
   "source": [
    "#### 3.1 Validando Distribución Clase Objetivo Claim"
   ]
  },
  {
   "cell_type": "code",
   "execution_count": 74,
   "metadata": {
    "vscode": {
     "languageId": "r"
    }
   },
   "outputs": [
    {
     "data": {
      "text/html": [
       "<table class=\"dataframe\">\n",
       "<caption>A tibble: 2 × 3</caption>\n",
       "<thead>\n",
       "\t<tr><th scope=col>claim</th><th scope=col>count</th><th scope=col>proportion</th></tr>\n",
       "\t<tr><th scope=col>&lt;int&gt;</th><th scope=col>&lt;int&gt;</th><th scope=col>&lt;dbl&gt;</th></tr>\n",
       "</thead>\n",
       "<tbody>\n",
       "\t<tr><td>0</td><td>49284</td><td>0.9816</td></tr>\n",
       "\t<tr><td>1</td><td>  923</td><td>0.0184</td></tr>\n",
       "</tbody>\n",
       "</table>\n"
      ],
      "text/latex": [
       "A tibble: 2 × 3\n",
       "\\begin{tabular}{lll}\n",
       " claim & count & proportion\\\\\n",
       " <int> & <int> & <dbl>\\\\\n",
       "\\hline\n",
       "\t 0 & 49284 & 0.9816\\\\\n",
       "\t 1 &   923 & 0.0184\\\\\n",
       "\\end{tabular}\n"
      ],
      "text/markdown": [
       "\n",
       "A tibble: 2 × 3\n",
       "\n",
       "| claim &lt;int&gt; | count &lt;int&gt; | proportion &lt;dbl&gt; |\n",
       "|---|---|---|\n",
       "| 0 | 49284 | 0.9816 |\n",
       "| 1 |   923 | 0.0184 |\n",
       "\n"
      ],
      "text/plain": [
       "  claim count proportion\n",
       "1 0     49284 0.9816    \n",
       "2 1       923 0.0184    "
      ]
     },
     "metadata": {},
     "output_type": "display_data"
    }
   ],
   "source": [
    "df_clean %>%\n",
    "    group_by(claim) %>%\n",
    "    summarise(count = n()) %>%\n",
    "    mutate(proportion = round(count / nrow(df_clean), 4))"
   ]
  },
  {
   "cell_type": "code",
   "execution_count": 75,
   "metadata": {
    "vscode": {
     "languageId": "r"
    }
   },
   "outputs": [
    {
     "data": {
      "image/png": "[encoded data removed]",
      "text/plain": [
       "plot without title"
      ]
     },
     "metadata": {
      "image/png": {
       "height": 300,
       "width": 600
      }
     },
     "output_type": "display_data"
    }
   ],
   "source": [
    "# grafico barras para clase target\n",
    "ggplot(df_clean, aes(x = claim)) +\n",
    "    geom_bar() +\n",
    "    theme_minimal()"
   ]
  },
  {
   "cell_type": "markdown",
   "metadata": {},
   "source": [
    "Las reclamaciones de seguros de viaje de la mayoría de los clientes fueron rechazadas por las agencias de seguros. Sólo se aceptó un número mínimo de reclamaciones de seguros. Esto sugiere que se trata de un conjunto de datos muy desequilibrado que debe equilibrarse más adelante para garantizar que no afecte negativamente al rendimiento de los algoritmos de aprendizaje automático."
   ]
  },
  {
   "cell_type": "code",
   "execution_count": 76,
   "metadata": {
    "vscode": {
     "languageId": "r"
    }
   },
   "outputs": [
    {
     "data": {
      "text/html": [
       "<table class=\"dataframe\">\n",
       "<caption>A data.frame: 2 × 12</caption>\n",
       "<thead>\n",
       "\t<tr><th></th><th scope=col>id</th><th scope=col>age</th><th scope=col>agency</th><th scope=col>agency_type</th><th scope=col>commision</th><th scope=col>destination</th><th scope=col>distribution_channel</th><th scope=col>duration</th><th scope=col>gender</th><th scope=col>net_sales</th><th scope=col>product_name</th><th scope=col>claim</th></tr>\n",
       "\t<tr><th></th><th scope=col>&lt;int&gt;</th><th scope=col>&lt;int&gt;</th><th scope=col>&lt;chr&gt;</th><th scope=col>&lt;chr&gt;</th><th scope=col>&lt;dbl&gt;</th><th scope=col>&lt;chr&gt;</th><th scope=col>&lt;chr&gt;</th><th scope=col>&lt;int&gt;</th><th scope=col>&lt;chr&gt;</th><th scope=col>&lt;dbl&gt;</th><th scope=col>&lt;chr&gt;</th><th scope=col>&lt;int&gt;</th></tr>\n",
       "</thead>\n",
       "<tbody>\n",
       "\t<tr><th scope=row>1</th><td>45341</td><td>28</td><td>C2B</td><td>Airlines</td><td>28.13</td><td>SINGAPORE  </td><td>Online</td><td>34</td><td>F</td><td>112.5</td><td>Silver Plan</td><td>1</td></tr>\n",
       "\t<tr><th scope=row>2</th><td>12958</td><td>37</td><td>JZI</td><td>Airlines</td><td>12.95</td><td>PHILIPPINES</td><td>Online</td><td>53</td><td>F</td><td> 37.0</td><td>Basic Plan </td><td>0</td></tr>\n",
       "</tbody>\n",
       "</table>\n"
      ],
      "text/latex": [
       "A data.frame: 2 × 12\n",
       "\\begin{tabular}{r|llllllllllll}\n",
       "  & id & age & agency & agency\\_type & commision & destination & distribution\\_channel & duration & gender & net\\_sales & product\\_name & claim\\\\\n",
       "  & <int> & <int> & <chr> & <chr> & <dbl> & <chr> & <chr> & <int> & <chr> & <dbl> & <chr> & <int>\\\\\n",
       "\\hline\n",
       "\t1 & 45341 & 28 & C2B & Airlines & 28.13 & SINGAPORE   & Online & 34 & F & 112.5 & Silver Plan & 1\\\\\n",
       "\t2 & 12958 & 37 & JZI & Airlines & 12.95 & PHILIPPINES & Online & 53 & F &  37.0 & Basic Plan  & 0\\\\\n",
       "\\end{tabular}\n"
      ],
      "text/markdown": [
       "\n",
       "A data.frame: 2 × 12\n",
       "\n",
       "| <!--/--> | id &lt;int&gt; | age &lt;int&gt; | agency &lt;chr&gt; | agency_type &lt;chr&gt; | commision &lt;dbl&gt; | destination &lt;chr&gt; | distribution_channel &lt;chr&gt; | duration &lt;int&gt; | gender &lt;chr&gt; | net_sales &lt;dbl&gt; | product_name &lt;chr&gt; | claim &lt;int&gt; |\n",
       "|---|---|---|---|---|---|---|---|---|---|---|---|---|\n",
       "| 1 | 45341 | 28 | C2B | Airlines | 28.13 | SINGAPORE   | Online | 34 | F | 112.5 | Silver Plan | 1 |\n",
       "| 2 | 12958 | 37 | JZI | Airlines | 12.95 | PHILIPPINES | Online | 53 | F |  37.0 | Basic Plan  | 0 |\n",
       "\n"
      ],
      "text/plain": [
       "  id    age agency agency_type commision destination distribution_channel\n",
       "1 45341 28  C2B    Airlines    28.13     SINGAPORE   Online              \n",
       "2 12958 37  JZI    Airlines    12.95     PHILIPPINES Online              \n",
       "  duration gender net_sales product_name claim\n",
       "1 34       F      112.5     Silver Plan  1    \n",
       "2 53       F       37.0     Basic Plan   0    "
      ]
     },
     "metadata": {},
     "output_type": "display_data"
    }
   ],
   "source": [
    "head(df_clean,2)"
   ]
  },
  {
   "cell_type": "markdown",
   "metadata": {},
   "source": [
    "### 3.2 Identificación de tipos de Variables\n",
    "\n",
    "De acuerdo a la exploración del datset podemos distinguir a las variables numéricas y categóricas según las columnas"
   ]
  },
  {
   "cell_type": "code",
   "execution_count": 77,
   "metadata": {
    "vscode": {
     "languageId": "r"
    }
   },
   "outputs": [
    {
     "name": "stdout",
     "output_type": "stream",
     "text": [
      "[1] \"Variables numéricas:\"\n",
      "[1] \"age\"       \"commision\" \"duration\"  \"net_sales\"\n",
      "[1] \"Variables categóricas:\"\n",
      "[1] \"agency\"               \"agency_type\"          \"destination\"         \n",
      "[4] \"distribution_channel\" \"product_name\"         \"gender\"              \n"
     ]
    }
   ],
   "source": [
    "# Identificar variables numéricas\n",
    "variables_numericas <- c('age', 'commision', 'duration', 'net_sales')\n",
    "\n",
    "# Identificar variables categóricas  -- 'gender' no se incluye dado que se descartó en el análisis\n",
    "variables_categoricas <- c('agency', 'agency_type', 'destination', 'distribution_channel', 'product_name', 'gender')\n",
    "\n",
    "# Imprimir las listas\n",
    "print(\"Variables numéricas:\")\n",
    "print(variables_numericas)\n",
    "print(\"Variables categóricas:\")\n",
    "print(variables_categoricas)\n"
   ]
  },
  {
   "cell_type": "markdown",
   "metadata": {},
   "source": [
    "#### 3.2.1 Exploración atributos numericos"
   ]
  },
  {
   "cell_type": "code",
   "execution_count": 78,
   "metadata": {
    "vscode": {
     "languageId": "r"
    }
   },
   "outputs": [
    {
     "data": {
      "image/png": "[encoded data removed]",
      "text/plain": [
       "Plot with title “net_sales”"
      ]
     },
     "metadata": {
      "image/png": {
       "height": 300,
       "width": 600
      }
     },
     "output_type": "display_data"
    }
   ],
   "source": [
    "# Ampliar la salida de la imagen para Jupyter Notebook\n",
    "options(repr.plot.width = 10, repr.plot.height = 5)\n",
    "\n",
    "# Creando un histograma para cada variable numérica\n",
    "par(mfrow = c(1, length(variables_numericas)))\n",
    "for (column in variables_numericas) {\n",
    "    hist(df_clean[[column]], main = column)\n",
    "}\n"
   ]
  },
  {
   "cell_type": "code",
   "execution_count": 79,
   "metadata": {
    "vscode": {
     "languageId": "r"
    }
   },
   "outputs": [
    {
     "data": {
      "image/png": "[encoded data removed]",
      "text/plain": [
       "Plot with title “Density Plot of net_sales”"
      ]
     },
     "metadata": {
      "image/png": {
       "height": 300,
       "width": 600
      }
     },
     "output_type": "display_data"
    }
   ],
   "source": [
    "# Obteniendo gráficos de densidad para atributos numéricos\n",
    "par(mfrow = c(1, length(variables_numericas)))\n",
    "for (i in 1:length(variables_numericas)) {\n",
    "    density_plot <- density(df_clean[[variables_numericas[i]]])\n",
    "    plot(density_plot, main = paste(\"Density Plot of\", variables_numericas[i]))\n",
    "}"
   ]
  },
  {
   "cell_type": "markdown",
   "metadata": {},
   "source": [
    "Observamos que para todas nuestras variables la data no se encontraría correctamente distribuida por lo que se entendería que existen muchos valores atipicos.\n",
    "\n",
    "La variable que tendría mejor distribución seria el de edad"
   ]
  },
  {
   "cell_type": "code",
   "execution_count": 80,
   "metadata": {
    "vscode": {
     "languageId": "r"
    }
   },
   "outputs": [
    {
     "data": {
      "image/png": "[encoded data removed]",
      "text/plain": [
       "Plot with title “net_sales”"
      ]
     },
     "metadata": {
      "image/png": {
       "height": 300,
       "width": 600
      }
     },
     "output_type": "display_data"
    }
   ],
   "source": [
    "# Crear graficos de caja para atributos numericos\n",
    "# Crear gráficos de caja para atributos numéricos\n",
    "par(mfrow = c(1, length(variables_numericas)))\n",
    "for (i in 1:length(variables_numericas)) {\n",
    "    boxplot(df_clean[[variables_numericas[i]]], main = variables_numericas[i])\n",
    "}"
   ]
  },
  {
   "cell_type": "markdown",
   "metadata": {},
   "source": [
    "observamos datos fueras de dominio para todos atributos numericos, estos serán tratados más adelante"
   ]
  },
  {
   "cell_type": "code",
   "execution_count": 81,
   "metadata": {
    "vscode": {
     "languageId": "r"
    }
   },
   "outputs": [
    {
     "data": {
      "image/png": "[encoded data removed]",
      "text/plain": [
       "plot without title"
      ]
     },
     "metadata": {
      "image/png": {
       "height": 300,
       "width": 600
      }
     },
     "output_type": "display_data"
    }
   ],
   "source": [
    "# generamos mapa de calor para conocer correlación entre las variables\n",
    "library(ggplot2)\n",
    "library(reshape2)\n",
    "\n",
    "correlation_matrix <- cor(df_clean[variables_numericas])\n",
    "melted_correlation <- melt(correlation_matrix)\n",
    "\n",
    "ggplot(data = melted_correlation, aes(x = Var1, y = Var2, fill = value)) +\n",
    "    geom_tile() +\n",
    "    scale_fill_gradient(low = \"blue\", high = \"red\") +\n",
    "    labs(title = \"Correlation Heatmap\") +\n",
    "    theme_minimal()"
   ]
  },
  {
   "cell_type": "markdown",
   "metadata": {},
   "source": [
    "observamos correlación positiva entre los datos de net_sales y commision"
   ]
  },
  {
   "cell_type": "markdown",
   "metadata": {},
   "source": [
    "#### 3.2.2 Exploración atributos Categoricos"
   ]
  },
  {
   "cell_type": "code",
   "execution_count": 82,
   "metadata": {
    "vscode": {
     "languageId": "r"
    }
   },
   "outputs": [
    {
     "data": {
      "image/png": "[encoded data removed]",
      "text/plain": [
       "Plot with title “gender”"
      ]
     },
     "metadata": {
      "image/png": {
       "height": 300,
       "width": 600
      }
     },
     "output_type": "display_data"
    }
   ],
   "source": [
    "# Crear graficos por cada atributo categórico\n",
    "# Create plots for each categorical attribute\n",
    "par(mfrow = c(1, length(variables_categoricas)))\n",
    "for (i in 1:length(variables_categoricas)) {\n",
    "    barplot(table(df_clean[[variables_categoricas[i]]]), main = variables_categoricas[i])\n",
    "}\n"
   ]
  },
  {
   "cell_type": "markdown",
   "metadata": {},
   "source": [
    "Se observa que agency_type preferida es agencia de viajes, se prefiere canal de distribusión online. Para el resto de variables se explorará a detalle"
   ]
  },
  {
   "cell_type": "code",
   "execution_count": null,
   "metadata": {
    "vscode": {
     "languageId": "r"
    }
   },
   "outputs": [],
   "source": []
  }
 ],
 "metadata": {
  "kernelspec": {
   "display_name": "R",
   "language": "R",
   "name": "ir"
  },
  "language_info": {
   "codemirror_mode": "r",
   "file_extension": ".r",
   "mimetype": "text/x-r-source",
   "name": "R",
   "pygments_lexer": "r",
   "version": "4.4.1"
  }
 },
 "nbformat": 4,
 "nbformat_minor": 2
}
